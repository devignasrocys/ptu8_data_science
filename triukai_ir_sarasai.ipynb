{
 "cells": [
  {
   "attachments": {},
   "cell_type": "markdown",
   "metadata": {},
   "source": [
    "# map()"
   ]
  },
  {
   "cell_type": "code",
   "execution_count": 1,
   "metadata": {},
   "outputs": [
    {
     "data": {
      "text/plain": [
       "[4, 3, 2, 1]"
      ]
     },
     "execution_count": 1,
     "metadata": {},
     "output_type": "execute_result"
    }
   ],
   "source": [
    "sarasas = [4,3,2,1]\n",
    "sarasas"
   ]
  },
  {
   "cell_type": "code",
   "execution_count": 2,
   "metadata": {},
   "outputs": [
    {
     "data": {
      "text/plain": [
       "[16, 9, 4, 1]"
      ]
     },
     "execution_count": 2,
     "metadata": {},
     "output_type": "execute_result"
    }
   ],
   "source": [
    "sarasas_kvadratu = []\n",
    "for skaicius in sarasas:\n",
    "    sarasas_kvadratu.append(skaicius**2)\n",
    "\n",
    "sarasas_kvadratu"
   ]
  },
  {
   "cell_type": "code",
   "execution_count": 4,
   "metadata": {},
   "outputs": [
    {
     "data": {
      "text/plain": [
       "[16, 9, 4, 1]"
      ]
     },
     "execution_count": 4,
     "metadata": {},
     "output_type": "execute_result"
    }
   ],
   "source": [
    "def kvadratu(skaicius):\n",
    "    return skaicius ** 2\n",
    "\n",
    "alternatyvus_kvadratu = map(kvadratu, sarasas) # map funkcija techniskai generatorius. Map funkcija pritaikys bet kokia nurodyta funkcija sarasui\n",
    "list(alternatyvus_kvadratu)"
   ]
  },
  {
   "cell_type": "code",
   "execution_count": 5,
   "metadata": {},
   "outputs": [
    {
     "data": {
      "text/plain": [
       "[16, 9, 4, 1]"
      ]
     },
     "execution_count": 5,
     "metadata": {},
     "output_type": "execute_result"
    }
   ],
   "source": [
    "lambda_kvadratu = map(lambda skaicius: skaicius ** 2, sarasas) # funkcijos pavadinimas, ka grazina, ir ka darys su tuo ka grazins\n",
    "list(lambda_kvadratu)"
   ]
  },
  {
   "cell_type": "code",
   "execution_count": 16,
   "metadata": {},
   "outputs": [
    {
     "data": {
      "text/plain": [
       "datetime.date(2023, 2, 1)"
      ]
     },
     "execution_count": 16,
     "metadata": {},
     "output_type": "execute_result"
    }
   ],
   "source": [
    "from datetime import date\n",
    "data = \"2023-02-01\"\n",
    "metai, menuo, diena = map(int, data.split(\"-\"))\n",
    "tikra_data = date(metai, menuo, diena)\n",
    "tikra_data"
   ]
  },
  {
   "attachments": {},
   "cell_type": "markdown",
   "metadata": {},
   "source": [
    "# filter()"
   ]
  },
  {
   "cell_type": "code",
   "execution_count": 18,
   "metadata": {},
   "outputs": [
    {
     "data": {
      "text/plain": [
       "[4, 3]"
      ]
     },
     "execution_count": 18,
     "metadata": {},
     "output_type": "execute_result"
    }
   ],
   "source": [
    "def daugiau_nei_du(sarasas):\n",
    "    tarpinis_sarasas = []\n",
    "    for skaicius in sarasas:\n",
    "        if skaicius > 2:\n",
    "            tarpinis_sarasas.append(skaicius)\n",
    "    return tarpinis_sarasas\n",
    "\n",
    "daugiau_nei_du(sarasas)"
   ]
  },
  {
   "cell_type": "code",
   "execution_count": 21,
   "metadata": {},
   "outputs": [
    {
     "data": {
      "text/plain": [
       "[4, 3]"
      ]
     },
     "execution_count": 21,
     "metadata": {},
     "output_type": "execute_result"
    }
   ],
   "source": [
    "d_u_du = filter(lambda skaicius: skaicius > 2, sarasas)\n",
    "list(d_u_du)"
   ]
  },
  {
   "cell_type": "code",
   "execution_count": 23,
   "metadata": {},
   "outputs": [
    {
     "data": {
      "text/plain": [
       "[2, 4, 6, 8, 10, 12, 14, 16, 18]"
      ]
     },
     "execution_count": 23,
     "metadata": {},
     "output_type": "execute_result"
    }
   ],
   "source": [
    "aibe = list(range(1, 20))\n",
    "lyginiai = filter(lambda skaicius: skaicius % 2 == 0, aibe)\n",
    "list(lyginiai)"
   ]
  },
  {
   "cell_type": "code",
   "execution_count": null,
   "metadata": {},
   "outputs": [],
   "source": [
    "import calendar\n",
    "metai = list(range(1950, 2151))\n",
    "keliamieji = filter(calendar.isleap, metai)\n",
    "list(keliamieji)"
   ]
  },
  {
   "attachments": {},
   "cell_type": "markdown",
   "metadata": {},
   "source": [
    "# reduce()"
   ]
  },
  {
   "cell_type": "code",
   "execution_count": 32,
   "metadata": {},
   "outputs": [
    {
     "name": "stdout",
     "output_type": "stream",
     "text": [
      "[4, 3, 2, 1, 5, 6]\n"
     ]
    },
    {
     "data": {
      "text/plain": [
       "21"
      ]
     },
     "execution_count": 32,
     "metadata": {},
     "output_type": "execute_result"
    }
   ],
   "source": [
    "from functools import reduce\n",
    "print(sarasas + [5, 6])\n",
    "suma = reduce(lambda pirmas, antras: pirmas + antras, sarasas + [5,6]) # ima pirma ir antra skaiciu, padaro veiksma, ir grazina to veiksmo rezultata, tada ims rezultat ir trecia skaicia, tada rezultata ir ketvirta skaiciu ir t,t\n",
    "suma"
   ]
  },
  {
   "attachments": {},
   "cell_type": "markdown",
   "metadata": {},
   "source": [
    "# statistines funkcijos"
   ]
  },
  {
   "cell_type": "code",
   "execution_count": 33,
   "metadata": {},
   "outputs": [
    {
     "data": {
      "text/plain": [
       "10"
      ]
     },
     "execution_count": 33,
     "metadata": {},
     "output_type": "execute_result"
    }
   ],
   "source": [
    "sum(sarasas)"
   ]
  },
  {
   "cell_type": "code",
   "execution_count": 34,
   "metadata": {},
   "outputs": [
    {
     "data": {
      "text/plain": [
       "1"
      ]
     },
     "execution_count": 34,
     "metadata": {},
     "output_type": "execute_result"
    }
   ],
   "source": [
    "min(sarasas)"
   ]
  },
  {
   "cell_type": "code",
   "execution_count": 35,
   "metadata": {},
   "outputs": [
    {
     "data": {
      "text/plain": [
       "4"
      ]
     },
     "execution_count": 35,
     "metadata": {},
     "output_type": "execute_result"
    }
   ],
   "source": [
    "max(sarasas)"
   ]
  },
  {
   "cell_type": "code",
   "execution_count": 36,
   "metadata": {},
   "outputs": [
    {
     "data": {
      "text/plain": [
       "2.5"
      ]
     },
     "execution_count": 36,
     "metadata": {},
     "output_type": "execute_result"
    }
   ],
   "source": [
    "from statistics import mean, median\n",
    "mean(sarasas)"
   ]
  },
  {
   "cell_type": "code",
   "execution_count": 37,
   "metadata": {},
   "outputs": [
    {
     "data": {
      "text/plain": [
       "2.5"
      ]
     },
     "execution_count": 37,
     "metadata": {},
     "output_type": "execute_result"
    }
   ],
   "source": [
    "median(sarasas) # centrinis skaicius"
   ]
  },
  {
   "attachments": {},
   "cell_type": "markdown",
   "metadata": {},
   "source": [
    "# Saraso apibrezimas (list comprehension)"
   ]
  },
  {
   "cell_type": "code",
   "execution_count": 39,
   "metadata": {},
   "outputs": [
    {
     "data": {
      "text/plain": [
       "[16, 9, 4, 1]"
      ]
     },
     "execution_count": 39,
     "metadata": {},
     "output_type": "execute_result"
    }
   ],
   "source": [
    "# ciklas sarase\n",
    "s_kvadratu = [skaicius ** 2 for skaicius in sarasas]\n",
    "s_kvadratu"
   ]
  },
  {
   "cell_type": "code",
   "execution_count": 40,
   "metadata": {},
   "outputs": [
    {
     "data": {
      "text/plain": [
       "[4, 3]"
      ]
     },
     "execution_count": 40,
     "metadata": {},
     "output_type": "execute_result"
    }
   ],
   "source": [
    "# salyga sarase\n",
    "f_d_uz_du = [skaicius for skaicius in sarasas if skaicius > 2]\n",
    "f_d_uz_du"
   ]
  },
  {
   "cell_type": "code",
   "execution_count": 41,
   "metadata": {},
   "outputs": [
    {
     "data": {
      "text/plain": [
       "[4, 2]"
      ]
     },
     "execution_count": 41,
     "metadata": {},
     "output_type": "execute_result"
    }
   ],
   "source": [
    "lyginiai = [skaicius for skaicius in sarasas if skaicius % 2 == 0]\n",
    "lyginiai"
   ]
  },
  {
   "cell_type": "code",
   "execution_count": 45,
   "metadata": {},
   "outputs": [
    {
     "data": {
      "text/plain": [
       "-1"
      ]
     },
     "execution_count": 45,
     "metadata": {},
     "output_type": "execute_result"
    }
   ],
   "source": [
    "genlyg = (skaicius for skaicius in range(-10000000, 10000000) if skaicius % 2 == 0 )\n",
    "mean(genlyg)"
   ]
  },
  {
   "cell_type": "code",
   "execution_count": 42,
   "metadata": {},
   "outputs": [
    {
     "data": {
      "text/plain": [
       "[4, 2]"
      ]
     },
     "execution_count": 42,
     "metadata": {},
     "output_type": "execute_result"
    }
   ],
   "source": [
    "def tik_lyginiai(sarasas):\n",
    "    lyginiai = []\n",
    "    for skaicius in sarasas:\n",
    "        if skaicius % 2 == 0:\n",
    "            lyginiai.append(skaicius)\n",
    "    return lyginiai\n",
    "\n",
    "tik_lyginiai(sarasas)"
   ]
  },
  {
   "cell_type": "code",
   "execution_count": 46,
   "metadata": {},
   "outputs": [
    {
     "data": {
      "text/plain": [
       "[77,\n",
       " 66,\n",
       " 99,\n",
       " 'Labas',\n",
       " True,\n",
       " False,\n",
       " 'vakaras',\n",
       " [1, 2, 3],\n",
       " {'kibiras': 'be rankenos'},\n",
       " -100.2,\n",
       " 69.42,\n",
       " 21,\n",
       " 'OK',\n",
       " 3.14]"
      ]
     },
     "execution_count": 46,
     "metadata": {},
     "output_type": "execute_result"
    }
   ],
   "source": [
    "misriukas = [77,66,99,\"Labas\", True, False, \"vakaras\",[1,2,3], {\"kibiras\": \"be rankenos\"}, -100.2, 69.420, 21, \"OK\",3.14]\n",
    "misriukas"
   ]
  },
  {
   "cell_type": "code",
   "execution_count": 47,
   "metadata": {},
   "outputs": [
    {
     "data": {
      "text/plain": [
       "4"
      ]
     },
     "execution_count": 47,
     "metadata": {},
     "output_type": "execute_result"
    }
   ],
   "source": [
    "kiek_intu = sum(type(elementas) is int for elementas in misriukas )\n",
    "kiek_intu"
   ]
  },
  {
   "cell_type": "code",
   "execution_count": 49,
   "metadata": {},
   "outputs": [
    {
     "data": {
      "text/plain": [
       "3"
      ]
     },
     "execution_count": 49,
     "metadata": {},
     "output_type": "execute_result"
    }
   ],
   "source": [
    "kiek_stringu = sum(type(elementas) is str for elementas in misriukas)\n",
    "kiek_stringu"
   ]
  },
  {
   "cell_type": "code",
   "execution_count": 51,
   "metadata": {},
   "outputs": [
    {
     "data": {
      "text/plain": [
       "3"
      ]
     },
     "execution_count": 51,
     "metadata": {},
     "output_type": "execute_result"
    }
   ],
   "source": [
    "def kiek_tipu(tipas,sarasas):\n",
    "    return sum(type(elementas) is tipas for elementas in sarasas)\n",
    "\n",
    "kiek_tipu(float, misriukas)"
   ]
  },
  {
   "attachments": {},
   "cell_type": "markdown",
   "metadata": {},
   "source": [
    "# rusiavimas"
   ]
  },
  {
   "cell_type": "code",
   "execution_count": 52,
   "metadata": {},
   "outputs": [
    {
     "data": {
      "text/plain": [
       "[1, 2, 3, 4, 5, 6, 7, 8, 9, 10]"
      ]
     },
     "execution_count": 52,
     "metadata": {},
     "output_type": "execute_result"
    }
   ],
   "source": [
    "nerusiuotas = [4,3,2,1,5,6,7,8,9,10]\n",
    "surusiuotas = sorted(nerusiuotas)\n",
    "surusiuotas"
   ]
  },
  {
   "cell_type": "code",
   "execution_count": 53,
   "metadata": {},
   "outputs": [
    {
     "data": {
      "text/plain": [
       "[10, 9, 8, 7, 6, 5, 4, 3, 2, 1]"
      ]
     },
     "execution_count": 53,
     "metadata": {},
     "output_type": "execute_result"
    }
   ],
   "source": [
    "nerusiuotas.sort(reverse=True)\n",
    "nerusiuotas"
   ]
  },
  {
   "cell_type": "code",
   "execution_count": 63,
   "metadata": {},
   "outputs": [
    {
     "data": {
      "text/plain": [
       "[-92, -89, -78, -57, -53, -15, 6, 21, 34, 95]"
      ]
     },
     "execution_count": 63,
     "metadata": {},
     "output_type": "execute_result"
    }
   ],
   "source": [
    "from random import randrange\n",
    "betkas = [randrange(-99, 100) for skaicius in range(10)]\n",
    "betkas.sort()\n",
    "betkas"
   ]
  },
  {
   "cell_type": "code",
   "execution_count": 64,
   "metadata": {},
   "outputs": [
    {
     "data": {
      "text/plain": [
       "[-94, -60, -42, -38, -7, 40, 50, 58, 84, 86]"
      ]
     },
     "execution_count": 64,
     "metadata": {},
     "output_type": "execute_result"
    }
   ],
   "source": [
    "from random import randrange\n",
    "betkas = sorted([randrange(-99, 100) for skaicius in range(10)])\n",
    "betkas"
   ]
  },
  {
   "cell_type": "code",
   "execution_count": 68,
   "metadata": {},
   "outputs": [
    {
     "data": {
      "text/plain": [
       "['29', 'Ignas', 'Rocys', 'Studentas']"
      ]
     },
     "execution_count": 68,
     "metadata": {},
     "output_type": "execute_result"
    }
   ],
   "source": [
    "zmogus = {\n",
    "    \"vardas\": \"Ignas\",\n",
    "    \"pavarde\": \"Rocys\",\n",
    "    \"amzius\": 29,\n",
    "    \"pareigos\": \"Studentas\" \n",
    "}\n",
    "surusiuotas = sorted(str(value) for value in zmogus.values())\n",
    "surusiuotas"
   ]
  },
  {
   "cell_type": "code",
   "execution_count": 69,
   "metadata": {},
   "outputs": [
    {
     "data": {
      "text/plain": [
       "[-7, -38, 40, -42, 50, 58, -60, 84, 86, -94]"
      ]
     },
     "execution_count": 69,
     "metadata": {},
     "output_type": "execute_result"
    }
   ],
   "source": [
    "sorted(betkas, key=abs)"
   ]
  },
  {
   "attachments": {},
   "cell_type": "markdown",
   "metadata": {},
   "source": [
    "# Objektu rusiavimas\n"
   ]
  },
  {
   "cell_type": "code",
   "execution_count": 73,
   "metadata": {},
   "outputs": [
    {
     "data": {
      "text/plain": [
       "[(Domas, Radzevičius, 2000),\n",
       " (Geras, Gerulis, 1000),\n",
       " (Rokas, Ramanauskas, 1000),\n",
       " (Tadas, Rutkauskas, 1500)]"
      ]
     },
     "execution_count": 73,
     "metadata": {},
     "output_type": "execute_result"
    }
   ],
   "source": [
    "class Darbuotojas:\n",
    "    def __init__(self, vardas, pavarde, atlyginimas):\n",
    "        self.vardas = vardas\n",
    "        self.pavarde = pavarde\n",
    "        self.atlyginimas = atlyginimas\n",
    "\n",
    "    def __repr__(self):\n",
    "        return (f\"({self.vardas}, {self.pavarde}, {self.atlyginimas})\")\n",
    "\n",
    "d1 = Darbuotojas(\"Tadas\", \"Rutkauskas\", 1500)\n",
    "d2 = Darbuotojas(\"Domas\", \"Radzevičius\", 2000)\n",
    "d3 = Darbuotojas(\"Rokas\", \"Ramanauskas\", 1000)\n",
    "d4 = Darbuotojas(\"Geras\", \"Gerulis\", 5000)\n",
    "darbuotojai = [d1, d2, d3, d4]\n",
    "darbuotojai\n",
    "\n",
    "def rusiavimas_pagal_varda(obj):\n",
    "    return obj.vardas\n",
    "\n",
    "darbuotojai_pagal_varda = sorted(darbuotojai, key=rusiavimas_pagal_varda)\n",
    "darbuotojai_pagal_varda"
   ]
  },
  {
   "cell_type": "code",
   "execution_count": 74,
   "metadata": {},
   "outputs": [
    {
     "data": {
      "text/plain": [
       "[(Geras, Gerulis, 1000),\n",
       " (Domas, Radzevičius, 2000),\n",
       " (Rokas, Ramanauskas, 1000),\n",
       " (Tadas, Rutkauskas, 1500)]"
      ]
     },
     "execution_count": 74,
     "metadata": {},
     "output_type": "execute_result"
    }
   ],
   "source": [
    "darbuotojai_pagal_pavarde = sorted(darbuotojai, key=lambda obj: obj.pavarde )\n",
    "darbuotojai_pagal_pavarde"
   ]
  }
 ],
 "metadata": {
  "kernelspec": {
   "display_name": "venv",
   "language": "python",
   "name": "python3"
  },
  "language_info": {
   "codemirror_mode": {
    "name": "ipython",
    "version": 3
   },
   "file_extension": ".py",
   "mimetype": "text/x-python",
   "name": "python",
   "nbconvert_exporter": "python",
   "pygments_lexer": "ipython3",
   "version": "3.10.6"
  },
  "orig_nbformat": 4,
  "vscode": {
   "interpreter": {
    "hash": "810cda2b73dc772fe31977aba58297bf2fbb82b5021ab893fdaba0624c6c247f"
   }
  }
 },
 "nbformat": 4,
 "nbformat_minor": 2
}
