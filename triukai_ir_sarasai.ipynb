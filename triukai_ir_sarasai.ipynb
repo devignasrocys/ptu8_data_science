{
 "cells": [
  {
   "attachments": {},
   "cell_type": "markdown",
   "metadata": {},
   "source": [
    "# map"
   ]
  },
  {
   "cell_type": "code",
   "execution_count": 1,
   "metadata": {},
   "outputs": [
    {
     "data": {
      "text/plain": [
       "[4, 3, 2, 1]"
      ]
     },
     "execution_count": 1,
     "metadata": {},
     "output_type": "execute_result"
    }
   ],
   "source": [
    "sarasas = [4,3,2,1]\n",
    "sarasas"
   ]
  },
  {
   "cell_type": "code",
   "execution_count": 2,
   "metadata": {},
   "outputs": [
    {
     "data": {
      "text/plain": [
       "[16, 9, 4, 1]"
      ]
     },
     "execution_count": 2,
     "metadata": {},
     "output_type": "execute_result"
    }
   ],
   "source": [
    "sarasas_kvadratu = []\n",
    "for skaicius in sarasas:\n",
    "    sarasas_kvadratu.append(skaicius**2)\n",
    "\n",
    "sarasas_kvadratu"
   ]
  },
  {
   "cell_type": "code",
   "execution_count": 4,
   "metadata": {},
   "outputs": [
    {
     "data": {
      "text/plain": [
       "[16, 9, 4, 1]"
      ]
     },
     "execution_count": 4,
     "metadata": {},
     "output_type": "execute_result"
    }
   ],
   "source": [
    "def kvadratu(skaicius):\n",
    "    return skaicius ** 2\n",
    "\n",
    "alternatyvus_kvadratu = map(kvadratu, sarasas) # map funkcija techniskai generatorius. Map funkcija pritaikys bet kokia nurodyta funkcija sarasui\n",
    "list(alternatyvus_kvadratu)"
   ]
  },
  {
   "cell_type": "code",
   "execution_count": 5,
   "metadata": {},
   "outputs": [
    {
     "data": {
      "text/plain": [
       "[16, 9, 4, 1]"
      ]
     },
     "execution_count": 5,
     "metadata": {},
     "output_type": "execute_result"
    }
   ],
   "source": [
    "lambda_kvadratu = map(lambda skaicius: skaicius ** 2, sarasas) # funkcijos pavadinimas, ka grazina, ir ka darys su tuo ka grazins\n",
    "list(lambda_kvadratu)"
   ]
  },
  {
   "cell_type": "code",
   "execution_count": 16,
   "metadata": {},
   "outputs": [
    {
     "data": {
      "text/plain": [
       "datetime.date(2023, 2, 1)"
      ]
     },
     "execution_count": 16,
     "metadata": {},
     "output_type": "execute_result"
    }
   ],
   "source": [
    "from datetime import date\n",
    "data = \"2023-02-01\"\n",
    "metai, menuo, diena = map(int, data.split(\"-\"))\n",
    "tikra_data = date(metai, menuo, diena)\n",
    "tikra_data"
   ]
  },
  {
   "attachments": {},
   "cell_type": "markdown",
   "metadata": {},
   "source": [
    "# filter()"
   ]
  },
  {
   "cell_type": "code",
   "execution_count": 18,
   "metadata": {},
   "outputs": [
    {
     "data": {
      "text/plain": [
       "[4, 3]"
      ]
     },
     "execution_count": 18,
     "metadata": {},
     "output_type": "execute_result"
    }
   ],
   "source": [
    "def daugiau_nei_du(sarasas):\n",
    "    tarpinis_sarasas = []\n",
    "    for skaicius in sarasas:\n",
    "        if skaicius > 2:\n",
    "            tarpinis_sarasas.append(skaicius)\n",
    "    return tarpinis_sarasas\n",
    "\n",
    "daugiau_nei_du(sarasas)"
   ]
  },
  {
   "cell_type": "code",
   "execution_count": 21,
   "metadata": {},
   "outputs": [
    {
     "data": {
      "text/plain": [
       "[4, 3]"
      ]
     },
     "execution_count": 21,
     "metadata": {},
     "output_type": "execute_result"
    }
   ],
   "source": [
    "d_u_du = filter(lambda skaicius: skaicius > 2, sarasas)\n",
    "list(d_u_du)"
   ]
  },
  {
   "cell_type": "code",
   "execution_count": 22,
   "metadata": {},
   "outputs": [
    {
     "data": {
      "text/plain": [
       "[1, 2, 3, 4, 5, 6, 7, 8, 9, 10, 11, 12, 13, 14, 15, 16, 17, 18, 19]"
      ]
     },
     "execution_count": 22,
     "metadata": {},
     "output_type": "execute_result"
    }
   ],
   "source": [
    "aibe = list(range(1, 20))\n",
    "lyginiai = filter(lambda skaicius: skaicius % 2 == 0, aibe)\n",
    "list(lyginiai)"
   ]
  }
 ],
 "metadata": {
  "kernelspec": {
   "display_name": "venv",
   "language": "python",
   "name": "python3"
  },
  "language_info": {
   "codemirror_mode": {
    "name": "ipython",
    "version": 3
   },
   "file_extension": ".py",
   "mimetype": "text/x-python",
   "name": "python",
   "nbconvert_exporter": "python",
   "pygments_lexer": "ipython3",
   "version": "3.10.6"
  },
  "orig_nbformat": 4,
  "vscode": {
   "interpreter": {
    "hash": "810cda2b73dc772fe31977aba58297bf2fbb82b5021ab893fdaba0624c6c247f"
   }
  }
 },
 "nbformat": 4,
 "nbformat_minor": 2
}
